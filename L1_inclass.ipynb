{
  "nbformat": 4,
  "nbformat_minor": 0,
  "metadata": {
    "colab": {
      "provenance": []
    },
    "kernelspec": {
      "name": "python3",
      "display_name": "Python 3"
    },
    "language_info": {
      "name": "python"
    }
  },
  "cells": [
    {
      "cell_type": "code",
      "execution_count": 13,
      "metadata": {
        "colab": {
          "base_uri": "https://localhost:8080/"
        },
        "id": "AVibdvnQgILz",
        "outputId": "dc0fe400-d14c-453f-d733-f0bd130cbf73"
      },
      "outputs": [
        {
          "output_type": "stream",
          "name": "stdout",
          "text": [
            "Mounted at /content/gdrive\n"
          ]
        }
      ],
      "source": [
        "from google.colab import drive\n",
        "drive.mount ('/content/gdrive', force_remount=True)\n",
        "import matplotlib.pyplot as plt"
      ]
    },
    {
      "cell_type": "code",
      "source": [
        "import pandas as pd"
      ],
      "metadata": {
        "id": "Oab6En50gKMQ"
      },
      "execution_count": null,
      "outputs": []
    },
    {
      "cell_type": "code",
      "source": [
        "df = pd.read_csv('/content/gdrive/MyDrive/Econ441B/applerevenue.csv')"
      ],
      "metadata": {
        "id": "24poUNuPgZHI"
      },
      "execution_count": 8,
      "outputs": []
    },
    {
      "cell_type": "code",
      "source": [
        "df.set_index('date', inplace=True)"
      ],
      "metadata": {
        "colab": {
          "base_uri": "https://localhost:8080/",
          "height": 424
        },
        "id": "ES8A-rbjhifY",
        "outputId": "8063463a-a334-443b-bd5d-4e6d3e538e66"
      },
      "execution_count": 9,
      "outputs": [
        {
          "output_type": "execute_result",
          "data": {
            "text/plain": [
              "             date      open      high       low     close     volume  \\\n",
              "0      12-12-1980    0.1003    0.1007    0.1003    0.1003  469033600   \n",
              "1      15-12-1980    0.0955    0.0955    0.0951    0.0951  175884800   \n",
              "2      16-12-1980    0.0885    0.0885    0.0881    0.0881  105728000   \n",
              "3      17-12-1980    0.0902    0.0907    0.0902    0.0902   86441600   \n",
              "4      18-12-1980    0.0929    0.0933    0.0929    0.0929   73449600   \n",
              "...           ...       ...       ...       ...       ...        ...   \n",
              "10554  24-10-2022  147.1850  150.2300  146.0000  149.4500   75569074   \n",
              "10555  25-10-2022  150.0900  152.4900  149.3600  152.3400   73583421   \n",
              "10556  26-10-2022  150.9600  151.9900  148.0400  149.3500   87769611   \n",
              "10557  27-10-2022  148.0700  149.0460  144.1300  144.8000  108110875   \n",
              "10558  28-10-2022  148.2000  157.5000  147.8200  155.7400  162857942   \n",
              "\n",
              "       profit or not  \n",
              "0                  0  \n",
              "1                  1  \n",
              "2                  1  \n",
              "3                  0  \n",
              "4                  0  \n",
              "...              ...  \n",
              "10554              0  \n",
              "10555              0  \n",
              "10556              1  \n",
              "10557              1  \n",
              "10558              0  \n",
              "\n",
              "[10559 rows x 7 columns]"
            ],
            "text/html": [
              "\n",
              "  <div id=\"df-97ad0ae7-a710-4c3c-9272-44f31d46cab9\">\n",
              "    <div class=\"colab-df-container\">\n",
              "      <div>\n",
              "<style scoped>\n",
              "    .dataframe tbody tr th:only-of-type {\n",
              "        vertical-align: middle;\n",
              "    }\n",
              "\n",
              "    .dataframe tbody tr th {\n",
              "        vertical-align: top;\n",
              "    }\n",
              "\n",
              "    .dataframe thead th {\n",
              "        text-align: right;\n",
              "    }\n",
              "</style>\n",
              "<table border=\"1\" class=\"dataframe\">\n",
              "  <thead>\n",
              "    <tr style=\"text-align: right;\">\n",
              "      <th></th>\n",
              "      <th>date</th>\n",
              "      <th>open</th>\n",
              "      <th>high</th>\n",
              "      <th>low</th>\n",
              "      <th>close</th>\n",
              "      <th>volume</th>\n",
              "      <th>profit or not</th>\n",
              "    </tr>\n",
              "  </thead>\n",
              "  <tbody>\n",
              "    <tr>\n",
              "      <th>0</th>\n",
              "      <td>12-12-1980</td>\n",
              "      <td>0.1003</td>\n",
              "      <td>0.1007</td>\n",
              "      <td>0.1003</td>\n",
              "      <td>0.1003</td>\n",
              "      <td>469033600</td>\n",
              "      <td>0</td>\n",
              "    </tr>\n",
              "    <tr>\n",
              "      <th>1</th>\n",
              "      <td>15-12-1980</td>\n",
              "      <td>0.0955</td>\n",
              "      <td>0.0955</td>\n",
              "      <td>0.0951</td>\n",
              "      <td>0.0951</td>\n",
              "      <td>175884800</td>\n",
              "      <td>1</td>\n",
              "    </tr>\n",
              "    <tr>\n",
              "      <th>2</th>\n",
              "      <td>16-12-1980</td>\n",
              "      <td>0.0885</td>\n",
              "      <td>0.0885</td>\n",
              "      <td>0.0881</td>\n",
              "      <td>0.0881</td>\n",
              "      <td>105728000</td>\n",
              "      <td>1</td>\n",
              "    </tr>\n",
              "    <tr>\n",
              "      <th>3</th>\n",
              "      <td>17-12-1980</td>\n",
              "      <td>0.0902</td>\n",
              "      <td>0.0907</td>\n",
              "      <td>0.0902</td>\n",
              "      <td>0.0902</td>\n",
              "      <td>86441600</td>\n",
              "      <td>0</td>\n",
              "    </tr>\n",
              "    <tr>\n",
              "      <th>4</th>\n",
              "      <td>18-12-1980</td>\n",
              "      <td>0.0929</td>\n",
              "      <td>0.0933</td>\n",
              "      <td>0.0929</td>\n",
              "      <td>0.0929</td>\n",
              "      <td>73449600</td>\n",
              "      <td>0</td>\n",
              "    </tr>\n",
              "    <tr>\n",
              "      <th>...</th>\n",
              "      <td>...</td>\n",
              "      <td>...</td>\n",
              "      <td>...</td>\n",
              "      <td>...</td>\n",
              "      <td>...</td>\n",
              "      <td>...</td>\n",
              "      <td>...</td>\n",
              "    </tr>\n",
              "    <tr>\n",
              "      <th>10554</th>\n",
              "      <td>24-10-2022</td>\n",
              "      <td>147.1850</td>\n",
              "      <td>150.2300</td>\n",
              "      <td>146.0000</td>\n",
              "      <td>149.4500</td>\n",
              "      <td>75569074</td>\n",
              "      <td>0</td>\n",
              "    </tr>\n",
              "    <tr>\n",
              "      <th>10555</th>\n",
              "      <td>25-10-2022</td>\n",
              "      <td>150.0900</td>\n",
              "      <td>152.4900</td>\n",
              "      <td>149.3600</td>\n",
              "      <td>152.3400</td>\n",
              "      <td>73583421</td>\n",
              "      <td>0</td>\n",
              "    </tr>\n",
              "    <tr>\n",
              "      <th>10556</th>\n",
              "      <td>26-10-2022</td>\n",
              "      <td>150.9600</td>\n",
              "      <td>151.9900</td>\n",
              "      <td>148.0400</td>\n",
              "      <td>149.3500</td>\n",
              "      <td>87769611</td>\n",
              "      <td>1</td>\n",
              "    </tr>\n",
              "    <tr>\n",
              "      <th>10557</th>\n",
              "      <td>27-10-2022</td>\n",
              "      <td>148.0700</td>\n",
              "      <td>149.0460</td>\n",
              "      <td>144.1300</td>\n",
              "      <td>144.8000</td>\n",
              "      <td>108110875</td>\n",
              "      <td>1</td>\n",
              "    </tr>\n",
              "    <tr>\n",
              "      <th>10558</th>\n",
              "      <td>28-10-2022</td>\n",
              "      <td>148.2000</td>\n",
              "      <td>157.5000</td>\n",
              "      <td>147.8200</td>\n",
              "      <td>155.7400</td>\n",
              "      <td>162857942</td>\n",
              "      <td>0</td>\n",
              "    </tr>\n",
              "  </tbody>\n",
              "</table>\n",
              "<p>10559 rows × 7 columns</p>\n",
              "</div>\n",
              "      <button class=\"colab-df-convert\" onclick=\"convertToInteractive('df-97ad0ae7-a710-4c3c-9272-44f31d46cab9')\"\n",
              "              title=\"Convert this dataframe to an interactive table.\"\n",
              "              style=\"display:none;\">\n",
              "        \n",
              "  <svg xmlns=\"http://www.w3.org/2000/svg\" height=\"24px\"viewBox=\"0 0 24 24\"\n",
              "       width=\"24px\">\n",
              "    <path d=\"M0 0h24v24H0V0z\" fill=\"none\"/>\n",
              "    <path d=\"M18.56 5.44l.94 2.06.94-2.06 2.06-.94-2.06-.94-.94-2.06-.94 2.06-2.06.94zm-11 1L8.5 8.5l.94-2.06 2.06-.94-2.06-.94L8.5 2.5l-.94 2.06-2.06.94zm10 10l.94 2.06.94-2.06 2.06-.94-2.06-.94-.94-2.06-.94 2.06-2.06.94z\"/><path d=\"M17.41 7.96l-1.37-1.37c-.4-.4-.92-.59-1.43-.59-.52 0-1.04.2-1.43.59L10.3 9.45l-7.72 7.72c-.78.78-.78 2.05 0 2.83L4 21.41c.39.39.9.59 1.41.59.51 0 1.02-.2 1.41-.59l7.78-7.78 2.81-2.81c.8-.78.8-2.07 0-2.86zM5.41 20L4 18.59l7.72-7.72 1.47 1.35L5.41 20z\"/>\n",
              "  </svg>\n",
              "      </button>\n",
              "      \n",
              "  <style>\n",
              "    .colab-df-container {\n",
              "      display:flex;\n",
              "      flex-wrap:wrap;\n",
              "      gap: 12px;\n",
              "    }\n",
              "\n",
              "    .colab-df-convert {\n",
              "      background-color: #E8F0FE;\n",
              "      border: none;\n",
              "      border-radius: 50%;\n",
              "      cursor: pointer;\n",
              "      display: none;\n",
              "      fill: #1967D2;\n",
              "      height: 32px;\n",
              "      padding: 0 0 0 0;\n",
              "      width: 32px;\n",
              "    }\n",
              "\n",
              "    .colab-df-convert:hover {\n",
              "      background-color: #E2EBFA;\n",
              "      box-shadow: 0px 1px 2px rgba(60, 64, 67, 0.3), 0px 1px 3px 1px rgba(60, 64, 67, 0.15);\n",
              "      fill: #174EA6;\n",
              "    }\n",
              "\n",
              "    [theme=dark] .colab-df-convert {\n",
              "      background-color: #3B4455;\n",
              "      fill: #D2E3FC;\n",
              "    }\n",
              "\n",
              "    [theme=dark] .colab-df-convert:hover {\n",
              "      background-color: #434B5C;\n",
              "      box-shadow: 0px 1px 3px 1px rgba(0, 0, 0, 0.15);\n",
              "      filter: drop-shadow(0px 1px 2px rgba(0, 0, 0, 0.3));\n",
              "      fill: #FFFFFF;\n",
              "    }\n",
              "  </style>\n",
              "\n",
              "      <script>\n",
              "        const buttonEl =\n",
              "          document.querySelector('#df-97ad0ae7-a710-4c3c-9272-44f31d46cab9 button.colab-df-convert');\n",
              "        buttonEl.style.display =\n",
              "          google.colab.kernel.accessAllowed ? 'block' : 'none';\n",
              "\n",
              "        async function convertToInteractive(key) {\n",
              "          const element = document.querySelector('#df-97ad0ae7-a710-4c3c-9272-44f31d46cab9');\n",
              "          const dataTable =\n",
              "            await google.colab.kernel.invokeFunction('convertToInteractive',\n",
              "                                                     [key], {});\n",
              "          if (!dataTable) return;\n",
              "\n",
              "          const docLinkHtml = 'Like what you see? Visit the ' +\n",
              "            '<a target=\"_blank\" href=https://colab.research.google.com/notebooks/data_table.ipynb>data table notebook</a>'\n",
              "            + ' to learn more about interactive tables.';\n",
              "          element.innerHTML = '';\n",
              "          dataTable['output_type'] = 'display_data';\n",
              "          await google.colab.output.renderOutput(dataTable, element);\n",
              "          const docLink = document.createElement('div');\n",
              "          docLink.innerHTML = docLinkHtml;\n",
              "          element.appendChild(docLink);\n",
              "        }\n",
              "      </script>\n",
              "    </div>\n",
              "  </div>\n",
              "  "
            ]
          },
          "metadata": {},
          "execution_count": 9
        }
      ]
    },
    {
      "cell_type": "code",
      "source": [
        "## Step 4: Data cleaning and Vizualization"
      ],
      "metadata": {
        "id": "bAiDB6n9h3Z_"
      },
      "execution_count": 15,
      "outputs": []
    },
    {
      "cell_type": "code",
      "source": [
        "df.index = pd.to_datetime(df.date)"
      ],
      "metadata": {
        "id": "TyOFFiuViwWn"
      },
      "execution_count": 16,
      "outputs": []
    },
    {
      "cell_type": "code",
      "source": [
        "plt.figure(figsize = (15, 6))\n",
        "plt.plot(df['close'])\n",
        "plt.title('Apple close price')\n",
        "plt.xlabel('date')\n",
        "plt.ylabel('close price')\n",
        "plt.show()"
      ],
      "metadata": {
        "colab": {
          "base_uri": "https://localhost:8080/",
          "height": 404
        },
        "id": "9FHW7WErid53",
        "outputId": "2f44c41b-d307-447f-fb8f-05453100fb8b"
      },
      "execution_count": 19,
      "outputs": [
        {
          "output_type": "display_data",
          "data": {
            "text/plain": [
              "<Figure size 1080x432 with 1 Axes>"
            ],
            "image/png": "[encoded data removed]"
          },
          "metadata": {
            "needs_background": "light"
          }
        }
      ]
    },
    {
      "cell_type": "markdown",
      "source": [
        "\n",
        "The close price of Apple computers saw a dramatic increase after around the year 2018. \n",
        "```\n",
        "# 此內容會顯示為程式碼\n",
        "```\n",
        "\n"
      ],
      "metadata": {
        "id": "6ebO82hXkFP3"
      }
    },
    {
      "cell_type": "code",
      "source": [],
      "metadata": {
        "id": "sDgsDfcYkGZb"
      },
      "execution_count": null,
      "outputs": []
    }
  ]
}